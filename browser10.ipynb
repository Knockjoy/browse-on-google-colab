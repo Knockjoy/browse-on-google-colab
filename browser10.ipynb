{
  "nbformat": 4,
  "nbformat_minor": 0,
  "metadata": {
    "colab": {
      "provenance": [],
      "authorship_tag": "ABX9TyMfD0iohekwGdBhreZhEJp1",
      "include_colab_link": true
    },
    "kernelspec": {
      "name": "python3",
      "display_name": "Python 3"
    },
    "language_info": {
      "name": "python"
    }
  },
  "cells": [
    {
      "cell_type": "markdown",
      "metadata": {
        "id": "view-in-github",
        "colab_type": "text"
      },
      "source": [
        "<a href=\"https://colab.research.google.com/github/Knockjoy/browse-on-google-colab/blob/main/browser10.ipynb\" target=\"_parent\"><img src=\"https://colab.research.google.com/assets/colab-badge.svg\" alt=\"Open In Colab\"/></a>"
      ]
    },
    {
      "cell_type": "markdown",
      "source": [
        "# 下準備"
      ],
      "metadata": {
        "id": "_gqK_jmssJhG"
      }
    },
    {
      "cell_type": "code",
      "source": [
        "#@title settings\n",
        "port = \"8000\"#@param {type:\"string\"}\n",
        "host = True #@param {type:\"boolean\"}"
      ],
      "metadata": {
        "cellView": "form",
        "id": "A2QH-Oxtu0He"
      },
      "execution_count": 75,
      "outputs": []
    },
    {
      "cell_type": "code",
      "execution_count": null,
      "metadata": {
        "id": "u2JcUvqHlXuq",
        "cellView": "form"
      },
      "outputs": [],
      "source": [
        "#@title shell\n",
        "%%shell\n",
        "cat > /etc/apt/sources.list.d/debian.list <<'EOF'\n",
        "deb [arch=amd64 signed-by=/usr/share/keyrings/debian-buster.gpg] http://deb.debian.org/debian buster main\n",
        "deb [arch=amd64 signed-by=/usr/share/keyrings/debian-buster-updates.gpg] http://deb.debian.org/debian buster-updates main\n",
        "deb [arch=amd64 signed-by=/usr/share/keyrings/debian-security-buster.gpg] http://deb.debian.org/debian-security buster/updates main\n",
        "EOF\n",
        "apt-key adv --keyserver keyserver.ubuntu.com --recv-keys DCC9EFBF77E11517\n",
        "apt-key adv --keyserver keyserver.ubuntu.com --recv-keys 648ACFD622F3D138\n",
        "apt-key adv --keyserver keyserver.ubuntu.com --recv-keys 112695A0E562B32A\n",
        "apt-key export 77E11517 | gpg --dearmour -o /usr/share/keyrings/debian-buster.gpg\n",
        "apt-key export 22F3D138 | gpg --dearmour -o /usr/share/keyrings/debian-buster-updates.gpg\n",
        "apt-key export E562B32A | gpg --dearmour -o /usr/share/keyrings/debian-security-buster.gpg\n",
        "Package: *\n",
        "Pin: release a=eoan\n",
        "Pin-Priority: 500\n",
        "Package: *\n",
        "Pin: origin \"deb.debian.org\"\n",
        "Pin-Priority: 300\n",
        "Package: chromium*\n",
        "Pin: origin \"deb.debian.org\"\n",
        "Pin-Priority: 700\n",
        "EOF\n",
        "apt-get update\n",
        "apt-get install chromium chromium-driver\n",
        "pip install selenium\n",
        "pip uninstall -y selenium_profiles\n",
        "pip install --no-cache-dir selenium_profiles>=2.2.4.7.4\n",
        "pip install flask"
      ]
    },
    {
      "cell_type": "code",
      "source": [
        "#@title create browser.py\n",
        "browser_py='''\n",
        "from selenium_profiles.utils.installer import install_chromedriver\n",
        "from selenium_profiles.driver import driver as mydriver\n",
        "from selenium_profiles.profiles import profiles\n",
        "from selenium.webdriver.common.by import By\n",
        "from selenium_profiles.utils.colab_utils import display, showscreen, show_html \n",
        "class Brows():\n",
        "  def startup(self):\n",
        "    install_chromedriver()\n",
        "    self.mydriver = mydriver()\n",
        "    self.display = display()\n",
        "    self.display.start_display()\n",
        "    self.driver = self.mydriver.start(profiles.Windows(), uc_driver=False)  # or .Android    \n",
        "  def access(self,url):\n",
        "    print('access now')\n",
        "    self.driver.get(url)\n",
        "    self.save_screen('browser/static/screen.png')\n",
        "    # showscreen(self.driver)\n",
        "  def save_screen(self,path):\n",
        "    self.driver.save_screenshot(path)\n",
        "    print('saved')\n",
        "  def exit(self):\n",
        "    self.driver.quit()\n",
        "    self.display.stop_display()\n",
        "  def search_ongoogle(self,word):\n",
        "    self.access(f'https://google.com/search?q={word}')\n",
        "'''.strip()\n"
      ],
      "metadata": {
        "cellView": "form",
        "id": "9ZR99QWeq86e"
      },
      "execution_count": 77,
      "outputs": []
    },
    {
      "cell_type": "code",
      "source": [
        "# from browser import browser\n",
        "# chrome_browser = browser.Brows()\n",
        "# chrome_browser.startup()\n",
        "# chrome_browser.access(\"https://twitter.com\")\n",
        "# chrome_browser.exit()"
      ],
      "metadata": {
        "id": "z1AYtM_Cmh8d"
      },
      "execution_count": 78,
      "outputs": []
    },
    {
      "cell_type": "code",
      "source": [
        "project_name=\"browser\"\n",
        "from google.colab.output import eval_js\n",
        "host = eval_js(f\"google.colab.kernel.proxyPort({str(port)})\")"
      ],
      "metadata": {
        "id": "p6YJ5Xrco3Zp"
      },
      "execution_count": 79,
      "outputs": []
    },
    {
      "cell_type": "code",
      "source": [
        "#@title app.py\n",
        "app_py_string = '''\n",
        "import sys\n",
        "import browser\n",
        "from flask import Flask, redirect ,request,render_template,jsonify\n",
        "import json\n",
        "import requests\n",
        "\n",
        "class ctrl_driver:\n",
        "  def driver_run(self):\n",
        "    self.chrome_browser = browser.Brows()\n",
        "    self.chrome_browser.startup()\n",
        "    self.chrome_browser.access(\"https://twitter.com\")\n",
        "  def driver_exit(self):\n",
        "    self.chrome_browser.exit()\n",
        "\n",
        "app = Flask(__name__)\n",
        "\n",
        "@app.route(\"/\")\n",
        "def check():\n",
        "    return render_template(\"index.html\")\n",
        "\n",
        "@app.route(\"/update\")\n",
        "def update():\n",
        "  try:\n",
        "    drive.chrome_browser.save_screen(\"browser/static/screen.png\")\n",
        "    return {\"states\":200,\"msg\":\"ok\"}\n",
        "  except Exception:\n",
        "    return {\"states\":500,\"msg\":\"error\"}\n",
        "@app.route(\"/google\",methods=[\"GET\"])\n",
        "def seachongoogle():\n",
        "  try:\n",
        "    word= request.args.get(\"word\")\n",
        "    if word is not None:\n",
        "      drive.chrome_browser.search_ongoogle(word)\n",
        "      return {\"stats\":200,\"msg\":\"ok\"}\n",
        "    else:\n",
        "      return {\"stats\":500,\"msg\":\"word is None.\"}\n",
        "  except:\n",
        "    return {\"stats\":500,\"msg\":\"error\"}\n",
        "@app.route(\"/access\",methods=[\"GET\"])\n",
        "def access_web():\n",
        "  try:\n",
        "    url=request.args.get(\"url\")\n",
        "    if url is not None:\n",
        "      drive.chrome_browser.access(url)\n",
        "      return {\"stats\":200,\"msg\":\"ok\"}\n",
        "    else :\n",
        "      return {\"stats\":500,\"msg\":\"url is None.\"}\n",
        "  except:\n",
        "      return {\"stats\":500,\"msg\":\"error\"}\n",
        "\n",
        "# @app.route(\"/output\", methods=[\"POST\"])\n",
        "# def output():\n",
        "#     try:\n",
        "#         _A = int(request.json[\"_A\"])\n",
        "#         _B = int(request.json[\"_B\"])\n",
        "#         res = _A + _B\n",
        "#         data = {\"result\":res, \"_A\":_A, \"_B\":_B, \"msg\":\"%s + %s = %s\"%(_A,_B,res)}\n",
        "#         return jsonify(ResultSet=json.dumps(data)), 200\n",
        "#     except Exception as err:\n",
        "#         print(err)\n",
        "#         data = {\"error\":\"err\"}\n",
        "#         return jsonify(ResultSet=json.dumps(data)), 500\n",
        "\n",
        "if __name__ == \"__main__\":\n",
        "  import sys\n",
        "  args = sys.argv\n",
        "  drive=ctrl_driver()\n",
        "  drive.driver_run()\n",
        "  app.run(debug=True, port=args[1],use_reloader=False)\n",
        "'''.strip()"
      ],
      "metadata": {
        "id": "M6-YRovXtVcG",
        "cellView": "form"
      },
      "execution_count": 125,
      "outputs": []
    },
    {
      "cell_type": "code",
      "source": [
        "#@title index.html\n",
        "index_html_string = '''\n",
        "\n",
        "<!doctype html>\n",
        "<html lang=\"en\">\n",
        "<head>\n",
        "    <meta charset=\"utf-8\">\n",
        "    <title>Document</title>\n",
        "</head>\n",
        "<body>\n",
        "<canvas id=\"board\" width=\"1024\" height=\"648\"></canvas>\n",
        "    <script src=\"static/post.js\"></script>\n",
        "</body>\n",
        "</html>\n",
        "\n",
        "'''.strip()"
      ],
      "metadata": {
        "id": "kQZ_AtsAtewF",
        "cellView": "form"
      },
      "execution_count": 126,
      "outputs": []
    },
    {
      "cell_type": "code",
      "source": [
        "#@title post.js\n",
        "post_js_string='''\n",
        "\n",
        "window.onload = ()=>{\n",
        "  // canvas準備\n",
        "  const board = document.querySelector(\"#board\");  //getElementById()等でも可。オブジェクトが取れれば良い。\n",
        "  const ctx = board.getContext(\"2d\");\n",
        "\n",
        "  // 画像読み込み\n",
        "  const chara = new Image();\n",
        "  chara.src = \"static/screen.png\";  // 画像のURLを指定\n",
        "  chara.onload = () => {\n",
        "    ctx.drawImage(chara, 0, 0);\n",
        "  };\n",
        "};\n",
        "\n",
        "function draw_img(){\n",
        "    // canvas準備\n",
        "  const board = document.querySelector(\"#board\");  //getElementById()等でも可。オブジェクトが取れれば良い。\n",
        "  const ctx = board.getContext(\"2d\");\n",
        "\n",
        "  // 画像読み込み\n",
        "  const chara = new Image();\n",
        "  chara.src = \"static/screen.png\";  // 画像のURLを指定\n",
        "  chara.onload = () => {\n",
        "    ctx.drawImage(chara, 0, 0);\n",
        "  };\n",
        "}\n",
        "\n",
        "function update_img(){\n",
        "  fetch(\"/update\")\n",
        "  .then((response) => response.json())\n",
        "    .then((data) => {\n",
        "draw_img()\n",
        "    });\n",
        "\n",
        "}\n",
        "\n",
        "function serchongoogle(word){\n",
        "  fetch(\"/google?word=\"+word)\n",
        "  .then((response) => response.json())\n",
        "    .then((data) => {\n",
        "draw_img()\n",
        "    });\n",
        "\n",
        "}\n",
        "\n",
        "function access(url){\n",
        "  fetch(\"/access?url=\"+url)\n",
        "  .then((response) => response.json())\n",
        "    .then((data) => {\n",
        "draw_img()\n",
        "    });\n",
        "}\n",
        "\n",
        "'''.strip()\n"
      ],
      "metadata": {
        "id": "aWOV7rFRtlWP",
        "cellView": "form"
      },
      "execution_count": 133,
      "outputs": []
    },
    {
      "cell_type": "code",
      "source": [
        "#@title create project\n",
        "!rm -rf $project_name\n",
        "!mkdir $project_name && mkdir $project_name/templates && mkdir $project_name/static\n",
        "!echo -e '{app_py_string}' >> $project_name/app.py\n",
        "!echo -e '{index_html_string}' >> $project_name/templates/index.html\n",
        "!echo -e '{post_js_string}' >> $project_name/static/post.js\n",
        "!echo -e \"{browser_py}\">> $project_name/browser.py"
      ],
      "metadata": {
        "id": "PZN1Suy2toEr",
        "cellView": "form"
      },
      "execution_count": 134,
      "outputs": []
    },
    {
      "cell_type": "code",
      "source": [
        "print('①が起動してから、↓のurlにアクセスする')\n",
        "print(host)\n",
        "#①\n",
        "!python $project_name/app.py $port"
      ],
      "metadata": {
        "id": "YRu5Hs1_tvue"
      },
      "execution_count": null,
      "outputs": []
    }
  ]
}
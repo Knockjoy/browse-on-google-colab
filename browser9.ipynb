{
  "nbformat": 4,
  "nbformat_minor": 0,
  "metadata": {
    "colab": {
      "provenance": [],
      "authorship_tag": "ABX9TyPgOInJugmcqIe50DDDrZz9",
      "include_colab_link": true
    },
    "kernelspec": {
      "name": "python3",
      "display_name": "Python 3"
    },
    "language_info": {
      "name": "python"
    }
  },
  "cells": [
    {
      "cell_type": "markdown",
      "metadata": {
        "id": "view-in-github",
        "colab_type": "text"
      },
      "source": [
        "<a href=\"https://colab.research.google.com/github/Knockjoy/browse-on-google-colab/blob/main/browser9.ipynb\" target=\"_parent\"><img src=\"https://colab.research.google.com/assets/colab-badge.svg\" alt=\"Open In Colab\"/></a>"
      ]
    },
    {
      "cell_type": "markdown",
      "source": [
        "# 下準備"
      ],
      "metadata": {
        "id": "_gqK_jmssJhG"
      }
    },
    {
      "cell_type": "code",
      "source": [
        "#@title settings\n",
        "port = \"8000\"#@param {type:\"string\"}\n",
        "host = True #@param {type:\"boolean\"}"
      ],
      "metadata": {
        "cellView": "form",
        "id": "A2QH-Oxtu0He"
      },
      "execution_count": 30,
      "outputs": []
    },
    {
      "cell_type": "code",
      "execution_count": 31,
      "metadata": {
        "id": "u2JcUvqHlXuq",
        "colab": {
          "base_uri": "https://localhost:8080/"
        },
        "outputId": "5e53f009-bcdb-486b-b576-8f1171963368",
        "cellView": "form"
      },
      "outputs": [
        {
          "output_type": "stream",
          "name": "stdout",
          "text": [
            "Executing: /tmp/apt-key-gpghome.rTA60Kg6rp/gpg.1.sh --keyserver keyserver.ubuntu.com --recv-keys DCC9EFBF77E11517\n",
            "gpg: key DCC9EFBF77E11517: \"Debian Stable Release Key (10/buster) <debian-release@lists.debian.org>\" not changed\n",
            "gpg: Total number processed: 1\n",
            "gpg:              unchanged: 1\n",
            "Executing: /tmp/apt-key-gpghome.6BfZu3IVv9/gpg.1.sh --keyserver keyserver.ubuntu.com --recv-keys 648ACFD622F3D138\n",
            "gpg: key DC30D7C23CBBABEE: \"Debian Archive Automatic Signing Key (10/buster) <ftpmaster@debian.org>\" not changed\n",
            "gpg: Total number processed: 1\n",
            "gpg:              unchanged: 1\n",
            "Executing: /tmp/apt-key-gpghome.DGbJg5twyK/gpg.1.sh --keyserver keyserver.ubuntu.com --recv-keys 112695A0E562B32A\n",
            "gpg: key 4DFAB270CAA96DFA: \"Debian Security Archive Automatic Signing Key (10/buster) <ftpmaster@debian.org>\" not changed\n",
            "gpg: Total number processed: 1\n",
            "gpg:              unchanged: 1\n",
            "gpg: cannot open '/dev/tty': No such device or address\n",
            "Warning: apt-key output should not be parsed (stdout is not a terminal)\n",
            "gpg: [stdout]: write error: Broken pipe\n",
            "gpg: filter_flush failed on close: Broken pipe\n",
            "gpg: cannot open '/dev/tty': No such device or address\n",
            "Warning: apt-key output should not be parsed (stdout is not a terminal)\n",
            "gpg: [stdout]: write error: Broken pipe\n",
            "gpg: filter_flush failed on close: Broken pipe\n",
            "gpg: cannot open '/dev/tty': No such device or address\n",
            "Warning: apt-key output should not be parsed (stdout is not a terminal)\n",
            "gpg: [stdout]: write error: Broken pipe\n",
            "gpg: filter_flush failed on close: Broken pipe\n",
            "/bin/bash: line 11: Package:: command not found\n",
            "/bin/bash: line 12: Pin:: command not found\n",
            "/bin/bash: line 13: Pin-Priority:: command not found\n",
            "/bin/bash: line 14: Package:: command not found\n",
            "/bin/bash: line 15: Pin:: command not found\n",
            "/bin/bash: line 16: Pin-Priority:: command not found\n",
            "/bin/bash: line 17: Package:: command not found\n",
            "/bin/bash: line 18: Pin:: command not found\n",
            "/bin/bash: line 19: Pin-Priority:: command not found\n",
            "/bin/bash: line 20: EOF: command not found\n",
            "Hit:1 https://cloud.r-project.org/bin/linux/ubuntu focal-cran40/ InRelease\n",
            "Hit:2 http://deb.debian.org/debian buster InRelease\n",
            "Hit:3 http://deb.debian.org/debian buster-updates InRelease\n",
            "Hit:4 http://deb.debian.org/debian-security buster/updates InRelease\n",
            "Ign:5 https://developer.download.nvidia.com/compute/machine-learning/repos/ubuntu2004/x86_64  InRelease\n",
            "Hit:6 https://developer.download.nvidia.com/compute/cuda/repos/ubuntu2004/x86_64  InRelease\n",
            "Hit:7 https://developer.download.nvidia.com/compute/machine-learning/repos/ubuntu2004/x86_64  Release\n",
            "Hit:8 http://security.ubuntu.com/ubuntu focal-security InRelease\n",
            "Hit:9 http://archive.ubuntu.com/ubuntu focal InRelease\n",
            "Hit:10 http://archive.ubuntu.com/ubuntu focal-updates InRelease\n",
            "Hit:11 http://ppa.launchpad.net/c2d4u.team/c2d4u4.0+/ubuntu focal InRelease\n",
            "Hit:12 http://archive.ubuntu.com/ubuntu focal-backports InRelease\n",
            "Hit:14 http://ppa.launchpad.net/cran/libgit2/ubuntu focal InRelease\n",
            "Hit:15 http://ppa.launchpad.net/deadsnakes/ppa/ubuntu focal InRelease\n",
            "Hit:16 http://ppa.launchpad.net/graphics-drivers/ppa/ubuntu focal InRelease\n",
            "Hit:17 http://ppa.launchpad.net/ubuntugis/ppa/ubuntu focal InRelease\n",
            "Reading package lists... Done\n",
            "Reading package lists... Done\n",
            "Building dependency tree       \n",
            "Reading state information... Done\n",
            "chromium is already the newest version (90.0.4430.212-1~deb10u1).\n",
            "chromium-driver is already the newest version (90.0.4430.212-1~deb10u1).\n",
            "0 upgraded, 0 newly installed, 0 to remove and 77 not upgraded.\n",
            "Looking in indexes: https://pypi.org/simple, https://us-python.pkg.dev/colab-wheels/public/simple/\n",
            "Requirement already satisfied: selenium in /usr/local/lib/python3.9/dist-packages (4.8.2)\n",
            "Requirement already satisfied: urllib3[socks]~=1.26 in /usr/local/lib/python3.9/dist-packages (from selenium) (1.26.14)\n",
            "Requirement already satisfied: trio-websocket~=0.9 in /usr/local/lib/python3.9/dist-packages (from selenium) (0.9.2)\n",
            "Requirement already satisfied: trio~=0.17 in /usr/local/lib/python3.9/dist-packages (from selenium) (0.22.0)\n",
            "Requirement already satisfied: certifi>=2021.10.8 in /usr/local/lib/python3.9/dist-packages (from selenium) (2022.12.7)\n",
            "Requirement already satisfied: outcome in /usr/local/lib/python3.9/dist-packages (from trio~=0.17->selenium) (1.2.0)\n",
            "Requirement already satisfied: async-generator>=1.9 in /usr/local/lib/python3.9/dist-packages (from trio~=0.17->selenium) (1.10)\n",
            "Requirement already satisfied: exceptiongroup>=1.0.0rc9 in /usr/local/lib/python3.9/dist-packages (from trio~=0.17->selenium) (1.1.0)\n",
            "Requirement already satisfied: sortedcontainers in /usr/local/lib/python3.9/dist-packages (from trio~=0.17->selenium) (2.4.0)\n",
            "Requirement already satisfied: idna in /usr/local/lib/python3.9/dist-packages (from trio~=0.17->selenium) (2.10)\n",
            "Requirement already satisfied: attrs>=19.2.0 in /usr/local/lib/python3.9/dist-packages (from trio~=0.17->selenium) (22.2.0)\n",
            "Requirement already satisfied: sniffio in /usr/local/lib/python3.9/dist-packages (from trio~=0.17->selenium) (1.3.0)\n",
            "Requirement already satisfied: wsproto>=0.14 in /usr/local/lib/python3.9/dist-packages (from trio-websocket~=0.9->selenium) (1.2.0)\n",
            "Requirement already satisfied: PySocks!=1.5.7,<2.0,>=1.5.6 in /usr/local/lib/python3.9/dist-packages (from urllib3[socks]~=1.26->selenium) (1.7.1)\n",
            "Requirement already satisfied: h11<1,>=0.9.0 in /usr/local/lib/python3.9/dist-packages (from wsproto>=0.14->trio-websocket~=0.9->selenium) (0.14.0)\n",
            "Found existing installation: selenium-profiles 2.2.5.2\n",
            "Uninstalling selenium-profiles-2.2.5.2:\n",
            "  Successfully uninstalled selenium-profiles-2.2.5.2\n",
            "Looking in indexes: https://pypi.org/simple, https://us-python.pkg.dev/colab-wheels/public/simple/\n",
            "Requirement already satisfied: flask in /usr/local/lib/python3.9/dist-packages (2.2.3)\n",
            "Requirement already satisfied: itsdangerous>=2.0 in /usr/local/lib/python3.9/dist-packages (from flask) (2.1.2)\n",
            "Requirement already satisfied: Jinja2>=3.0 in /usr/local/lib/python3.9/dist-packages (from flask) (3.1.2)\n",
            "Requirement already satisfied: importlib-metadata>=3.6.0 in /usr/local/lib/python3.9/dist-packages (from flask) (6.0.0)\n",
            "Requirement already satisfied: click>=8.0 in /usr/local/lib/python3.9/dist-packages (from flask) (8.1.3)\n",
            "Requirement already satisfied: Werkzeug>=2.2.2 in /usr/local/lib/python3.9/dist-packages (from flask) (2.2.3)\n",
            "Requirement already satisfied: zipp>=0.5 in /usr/local/lib/python3.9/dist-packages (from importlib-metadata>=3.6.0->flask) (3.15.0)\n",
            "Requirement already satisfied: MarkupSafe>=2.0 in /usr/local/lib/python3.9/dist-packages (from Jinja2>=3.0->flask) (2.1.2)\n"
          ]
        },
        {
          "output_type": "execute_result",
          "data": {
            "text/plain": []
          },
          "metadata": {},
          "execution_count": 31
        }
      ],
      "source": [
        "#@title shell\n",
        "%%shell\n",
        "cat > /etc/apt/sources.list.d/debian.list <<'EOF'\n",
        "deb [arch=amd64 signed-by=/usr/share/keyrings/debian-buster.gpg] http://deb.debian.org/debian buster main\n",
        "deb [arch=amd64 signed-by=/usr/share/keyrings/debian-buster-updates.gpg] http://deb.debian.org/debian buster-updates main\n",
        "deb [arch=amd64 signed-by=/usr/share/keyrings/debian-security-buster.gpg] http://deb.debian.org/debian-security buster/updates main\n",
        "EOF\n",
        "apt-key adv --keyserver keyserver.ubuntu.com --recv-keys DCC9EFBF77E11517\n",
        "apt-key adv --keyserver keyserver.ubuntu.com --recv-keys 648ACFD622F3D138\n",
        "apt-key adv --keyserver keyserver.ubuntu.com --recv-keys 112695A0E562B32A\n",
        "apt-key export 77E11517 | gpg --dearmour -o /usr/share/keyrings/debian-buster.gpg\n",
        "apt-key export 22F3D138 | gpg --dearmour -o /usr/share/keyrings/debian-buster-updates.gpg\n",
        "apt-key export E562B32A | gpg --dearmour -o /usr/share/keyrings/debian-security-buster.gpg\n",
        "Package: *\n",
        "Pin: release a=eoan\n",
        "Pin-Priority: 500\n",
        "Package: *\n",
        "Pin: origin \"deb.debian.org\"\n",
        "Pin-Priority: 300\n",
        "Package: chromium*\n",
        "Pin: origin \"deb.debian.org\"\n",
        "Pin-Priority: 700\n",
        "EOF\n",
        "apt-get update\n",
        "apt-get install chromium chromium-driver\n",
        "pip install selenium\n",
        "pip uninstall -y selenium_profiles\n",
        "pip install --no-cache-dir selenium_profiles>=2.2.4.7.4\n",
        "pip install flask"
      ]
    },
    {
      "cell_type": "code",
      "source": [
        "#@title create browser.py\n",
        "browser_py='''\n",
        "from selenium_profiles.utils.installer import install_chromedriver\n",
        "from selenium_profiles.driver import driver as mydriver\n",
        "from selenium_profiles.profiles import profiles\n",
        "from selenium.webdriver.common.by import By\n",
        "from selenium_profiles.utils.colab_utils import display, showscreen, show_html \n",
        "class Brows():\n",
        "  def startup(self):\n",
        "    install_chromedriver()\n",
        "    self.mydriver = mydriver()\n",
        "    self.display = display()\n",
        "    self.display.start_display()\n",
        "    self.driver = self.mydriver.start(profiles.Windows(), uc_driver=False)  # or .Android    \n",
        "  def access(self,url):\n",
        "    print('access now')\n",
        "    self.driver.get(url)\n",
        "    self.save_screen('browser/static/screen.png')\n",
        "    # showscreen(self.driver)\n",
        "  def save_screen(self,path):\n",
        "    self.driver.save_screenshot(path)\n",
        "  def exit(self):\n",
        "    self.driver.quit()\n",
        "    self.display.stop_display()\n",
        "  def search_ongoogle(self,word):\n",
        "    self.access(f'https://google.com/search?q={word}')\n",
        "'''.strip()\n"
      ],
      "metadata": {
        "cellView": "form",
        "id": "9ZR99QWeq86e"
      },
      "execution_count": 91,
      "outputs": []
    },
    {
      "cell_type": "code",
      "source": [
        "# from browser import browser\n",
        "# chrome_browser = browser.Brows()\n",
        "# chrome_browser.startup()\n",
        "# chrome_browser.access(\"https://twitter.com\")\n",
        "# chrome_browser.exit()"
      ],
      "metadata": {
        "id": "z1AYtM_Cmh8d"
      },
      "execution_count": 92,
      "outputs": []
    },
    {
      "cell_type": "code",
      "source": [
        "project_name=\"browser\"\n",
        "from google.colab.output import eval_js\n",
        "host = eval_js(f\"google.colab.kernel.proxyPort({str(port)})\")"
      ],
      "metadata": {
        "id": "p6YJ5Xrco3Zp"
      },
      "execution_count": 93,
      "outputs": []
    },
    {
      "cell_type": "code",
      "source": [
        "#@title app.py\n",
        "app_py_string = '''\n",
        "import sys\n",
        "import browser\n",
        "from flask import Flask, redirect ,request,render_template,jsonify\n",
        "import json\n",
        "import requests\n",
        "\n",
        "class ctrl_driver:\n",
        "  def driver_run(self):\n",
        "    self.chrome_browser = browser.Brows()\n",
        "    self.chrome_browser.startup()\n",
        "    self.chrome_browser.access(\"https://twitter.com\")\n",
        "\n",
        "  def driver_exit(self):\n",
        "    self.chrome_browser.exit()\n",
        "\n",
        "app = Flask(__name__)\n",
        "\n",
        "@app.route(\"/\")\n",
        "def check():\n",
        "    return render_template(\"index.html\")\n",
        "\n",
        "# @app.route(\"/output\", methods=[\"POST\"])\n",
        "# def output():\n",
        "#     try:\n",
        "#         _A = int(request.json[\"_A\"])\n",
        "#         _B = int(request.json[\"_B\"])\n",
        "#         res = _A + _B\n",
        "#         data = {\"result\":res, \"_A\":_A, \"_B\":_B, \"msg\":\"%s + %s = %s\"%(_A,_B,res)}\n",
        "#         return jsonify(ResultSet=json.dumps(data)), 200\n",
        "#     except Exception as err:\n",
        "#         print(err)\n",
        "#         data = {\"error\":\"err\"}\n",
        "#         return jsonify(ResultSet=json.dumps(data)), 500\n",
        "\n",
        "if __name__ == \"__main__\":\n",
        "    import sys\n",
        "    args = sys.argv\n",
        "    dirive=ctrl_driver()\n",
        "    dirive.driver_run()\n",
        "    app.run(debug=True, port=args[1])\n",
        "'''.strip()"
      ],
      "metadata": {
        "id": "M6-YRovXtVcG",
        "cellView": "form"
      },
      "execution_count": 112,
      "outputs": []
    },
    {
      "cell_type": "code",
      "source": [
        "#@title index.html\n",
        "index_html_string = '''\n",
        "\n",
        "<!doctype html>\n",
        "<html lang=\"en\">\n",
        "<head>\n",
        "    <meta charset=\"utf-8\">\n",
        "    <title>Document</title>\n",
        "</head>\n",
        "<body>\n",
        "    <input type=\"text\" value=\"0\" name=\"_A\" /> + <input type=\"text\" value=\"0\" name=\"_B\" /> <button id=\"run\">を計算する</button><br/>\n",
        "    <h2>結果</h2>\n",
        "    <script src=\"static/post.js\"></script>\n",
        "</body>\n",
        "</html>\n",
        "\n",
        "'''.strip()"
      ],
      "metadata": {
        "id": "kQZ_AtsAtewF",
        "cellView": "form"
      },
      "execution_count": 113,
      "outputs": []
    },
    {
      "cell_type": "code",
      "source": [
        "#@title post.js\n",
        "post_js_string='''\n",
        "\n",
        "fetch(\"https://code.jquery.com/jquery-3.4.1.min.js\").then(r=>{return r.text()}).then(t=>eval(t)).then(()=>{\n",
        "\t$=jQuery;\n",
        "    document.getElementById(\"run\").addEventListener(\"click\",\n",
        "        function(){\n",
        "            values=[...document.querySelectorAll(\"input\")].map(_=>_.value);\n",
        "            $.ajax({\n",
        "                url:\"/output\",\n",
        "                type:\"POST\",\n",
        "                data:JSON.stringify({\"_A\":values[0],\"_B\":values[1]}),\n",
        "                contentType:\"application/json\"\n",
        "            }).done(data=>{\n",
        "                $(document.body).append(JSON.parse(data.ResultSet).msg,\"<br/>\");\n",
        "            }).fail(data=>{\n",
        "                $(document.body).append(\"error\",\"<br/>\")\n",
        "            });\n",
        "        },false);\n",
        "});\n",
        "\n",
        "'''.strip()\n"
      ],
      "metadata": {
        "id": "aWOV7rFRtlWP",
        "cellView": "form"
      },
      "execution_count": 114,
      "outputs": []
    },
    {
      "cell_type": "code",
      "source": [
        "!rm -rf $project_name\n",
        "!mkdir $project_name && mkdir $project_name/templates && mkdir $project_name/static\n",
        "!echo -e '{app_py_string}' >> $project_name/app.py\n",
        "!echo -e '{index_html_string}' >> $project_name/templates/index.html\n",
        "!echo -e '{post_js_string}' >> $project_name/static/post.js\n",
        "!echo -e \"{browser_py}\">> $project_name/browser.py"
      ],
      "metadata": {
        "id": "PZN1Suy2toEr"
      },
      "execution_count": 115,
      "outputs": []
    },
    {
      "cell_type": "code",
      "source": [
        "print('①が起動してから、↓のurlにアクセスする')\n",
        "print(host)\n",
        "#①\n",
        "!python $project_name/app.py $port"
      ],
      "metadata": {
        "colab": {
          "base_uri": "https://localhost:8080/"
        },
        "id": "YRu5Hs1_tvue",
        "outputId": "7e0e8514-02de-434f-a0bb-d8d037871961"
      },
      "execution_count": 116,
      "outputs": [
        {
          "output_type": "stream",
          "name": "stdout",
          "text": [
            "①が起動してから、↓のurlにアクセスする\n",
            "https://ybt4tj1860k-496ff2e9c6d22116-8000-colab.googleusercontent.com/\n",
            "Reading package lists... Done\n",
            "Building dependency tree       \n",
            "Reading state information... Done\n",
            "The following NEW packages will be installed:\n",
            "  chromium-chromedriver\n",
            "0 upgraded, 1 newly installed, 0 to remove and 77 not upgraded.\n",
            "Need to get 2,496 B of archives.\n",
            "After this operation, 77.8 kB of additional disk space will be used.\n",
            "Get:1 http://archive.ubuntu.com/ubuntu focal-updates/universe amd64 chromium-chromedriver amd64 1:85.0.4183.83-0ubuntu0.20.04.3 [2,496 B]\n",
            "Fetched 2,496 B in 0s (10.8 kB/s)\n",
            "(Reading database ... 128803 files and directories currently installed.)\n",
            "Preparing to unpack .../chromium-chromedriver_1%3a85.0.4183.83-0ubuntu0.20.04.3_amd64.deb ...\n",
            "Unpacking chromium-chromedriver (1:85.0.4183.83-0ubuntu0.20.04.3) ...\n",
            "\u001b[1mdpkg:\u001b[0m error processing archive /var/cache/apt/archives/chromium-chromedriver_1%3a85.0.4183.83-0ubuntu0.20.04.3_amd64.deb (--unpack):\n",
            " trying to overwrite '/usr/bin/chromedriver', which is also in package chromium-driver 90.0.4430.212-1~deb10u1\n",
            "Errors were encountered while processing:\n",
            " /var/cache/apt/archives/chromium-chromedriver_1%3a85.0.4183.83-0ubuntu0.20.04.3_amd64.deb\n",
            "\u001b[1;31mE: \u001b[0mSub-process /usr/bin/dpkg returned an error code (1)\u001b[0m\n",
            "Reading package lists... Done\n",
            "Building dependency tree       \n",
            "Reading state information... Done\n",
            "xvfb is already the newest version (2:1.20.13-1ubuntu1~20.04.6).\n",
            "The following packages were automatically installed and are no longer required:\n",
            "  apparmor chromium-browser liblzo2-2 snapd squashfs-tools\n",
            "Use 'apt autoremove' to remove them.\n",
            "0 upgraded, 0 newly installed, 0 to remove and 77 not upgraded.\n",
            "updating: chromedriver (deflated 53%)\n",
            "/usr/local/lib/python3.9/dist-packages/selenium_profiles/utils/colab_utils.py:90: UserWarning: Cannot find the undetected_chromedriver module. If you want to use undetected-chromedriveryou can install it with 'pip install undetected_chromedriver'\n",
            "and then run in Python:\n",
            "from selenium_profiles.utils.colab_utils import patch_uc\n",
            "patch_uc()\n",
            "  warnings.warn(\n",
            "/usr/local/lib/python3.9/dist-packages/selenium_profiles/scripts/profiles.py:109: UserWarning: Might be more likely to get detected with sandbox set to False!\n",
            "  warnings.warn('Might be more likely to get detected with sandbox set to False!')\n",
            "access now\n",
            " * Serving Flask app 'app'\n",
            " * Debug mode: on\n",
            "\u001b[31m\u001b[1mWARNING: This is a development server. Do not use it in a production deployment. Use a production WSGI server instead.\u001b[0m\n",
            " * Running on http://127.0.0.1:8000\n",
            "\u001b[33mPress CTRL+C to quit\u001b[0m\n",
            " * Restarting with stat\n",
            "Reading package lists... Done\n",
            "Building dependency tree       \n",
            "Reading state information... Done\n",
            "The following NEW packages will be installed:\n",
            "  chromium-chromedriver\n",
            "0 upgraded, 1 newly installed, 0 to remove and 77 not upgraded.\n",
            "Need to get 2,496 B of archives.\n",
            "After this operation, 77.8 kB of additional disk space will be used.\n",
            "Get:1 http://archive.ubuntu.com/ubuntu focal-updates/universe amd64 chromium-chromedriver amd64 1:85.0.4183.83-0ubuntu0.20.04.3 [2,496 B]\n",
            "Fetched 2,496 B in 0s (10.5 kB/s)\n",
            "(Reading database ... 128803 files and directories currently installed.)\n",
            "Preparing to unpack .../chromium-chromedriver_1%3a85.0.4183.83-0ubuntu0.20.04.3_amd64.deb ...\n",
            "Unpacking chromium-chromedriver (1:85.0.4183.83-0ubuntu0.20.04.3) ...\n",
            "\u001b[1mdpkg:\u001b[0m error processing archive /var/cache/apt/archives/chromium-chromedriver_1%3a85.0.4183.83-0ubuntu0.20.04.3_amd64.deb (--unpack):\n",
            " trying to overwrite '/usr/bin/chromedriver', which is also in package chromium-driver 90.0.4430.212-1~deb10u1\n",
            "Errors were encountered while processing:\n",
            " /var/cache/apt/archives/chromium-chromedriver_1%3a85.0.4183.83-0ubuntu0.20.04.3_amd64.deb\n",
            "\u001b[1;31mE: \u001b[0mSub-process /usr/bin/dpkg returned an error code (1)\u001b[0m\n",
            "Reading package lists... Done\n",
            "Building dependency tree       \n",
            "Reading state information... Done\n",
            "xvfb is already the newest version (2:1.20.13-1ubuntu1~20.04.6).\n",
            "The following packages were automatically installed and are no longer required:\n",
            "  apparmor chromium-browser liblzo2-2 snapd squashfs-tools\n",
            "Use 'apt autoremove' to remove them.\n",
            "0 upgraded, 0 newly installed, 0 to remove and 77 not upgraded.\n",
            "updating: chromedriver (deflated 53%)\n",
            "/usr/local/lib/python3.9/dist-packages/selenium_profiles/utils/colab_utils.py:90: UserWarning: Cannot find the undetected_chromedriver module. If you want to use undetected-chromedriveryou can install it with 'pip install undetected_chromedriver'\n",
            "and then run in Python:\n",
            "from selenium_profiles.utils.colab_utils import patch_uc\n",
            "patch_uc()\n",
            "  warnings.warn(\n",
            "/usr/local/lib/python3.9/dist-packages/selenium_profiles/scripts/profiles.py:109: UserWarning: Might be more likely to get detected with sandbox set to False!\n",
            "  warnings.warn('Might be more likely to get detected with sandbox set to False!')\n",
            "access now\n",
            " * Debugger is active!\n",
            " * Debugger PIN: 640-069-694\n",
            "127.0.0.1 - - [10/Mar/2023 02:18:43] \"GET / HTTP/1.1\" 200 -\n",
            "127.0.0.1 - - [10/Mar/2023 02:18:50] \"GET / HTTP/1.1\" 200 -\n",
            "127.0.0.1 - - [10/Mar/2023 02:18:51] \"GET /static/post.js HTTP/1.1\" 200 -\n",
            "127.0.0.1 - - [10/Mar/2023 02:18:51] \"\u001b[33mGET /favicon.ico HTTP/1.1\u001b[0m\" 404 -\n",
            "127.0.0.1 - - [10/Mar/2023 02:19:03] \"GET / HTTP/1.1\" 200 -\n",
            "127.0.0.1 - - [10/Mar/2023 02:19:23] \"\u001b[33mGET /screen.png HTTP/1.1\u001b[0m\" 404 -\n",
            "127.0.0.1 - - [10/Mar/2023 02:19:54] \"\u001b[33mGET /screen.png HTTP/1.1\u001b[0m\" 404 -\n",
            "127.0.0.1 - - [10/Mar/2023 02:20:15] \"GET /static/screen.png HTTP/1.1\" 200 -\n"
          ]
        }
      ]
    },
    {
      "cell_type": "code",
      "source": [
        "!ls"
      ],
      "metadata": {
        "colab": {
          "base_uri": "https://localhost:8080/"
        },
        "id": "MbI9chrmLFNj",
        "outputId": "28b1fa0c-2fcf-4364-810f-a85d0bbd3f80"
      },
      "execution_count": 117,
      "outputs": [
        {
          "output_type": "stream",
          "name": "stdout",
          "text": [
            "'=2.2.4.7.4'   browser\t chromedriver_linux64.zip   sample_data   screen.png\n"
          ]
        }
      ]
    }
  ]
}